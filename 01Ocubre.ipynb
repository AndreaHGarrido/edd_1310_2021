{
  "nbformat": 4,
  "nbformat_minor": 0,
  "metadata": {
    "colab": {
      "name": "01Ocubre.ipynb",
      "provenance": [],
      "authorship_tag": "ABX9TyPiXuMQ3VQRcXDT2JaAfeMZ",
      "include_colab_link": true
    },
    "kernelspec": {
      "name": "python3",
      "display_name": "Python 3"
    }
  },
  "cells": [
    {
      "cell_type": "markdown",
      "metadata": {
        "id": "view-in-github",
        "colab_type": "text"
      },
      "source": [
        "<a href=\"https://colab.research.google.com/github/AndreaHGarrido/edd_1310_2021/blob/master/01Ocubre.ipynb\" target=\"_parent\"><img src=\"https://colab.research.google.com/assets/colab-badge.svg\" alt=\"Open In Colab\"/></a>"
      ]
    },
    {
      "cell_type": "code",
      "metadata": {
        "id": "l8S0s1GN8ZVa"
      },
      "source": [
        ""
      ],
      "execution_count": null,
      "outputs": []
    },
    {
      "cell_type": "markdown",
      "metadata": {
        "id": "05SsSYj_8cLS"
      },
      "source": [
        "# **Intro Python 3**\n",
        "#Variables\n",
        "Tipo Dinamic\n",
        "\n",
        "escuela=\"FES Aragón\""
      ]
    },
    {
      "cell_type": "code",
      "metadata": {
        "id": "0b8U6gjn83OA",
        "outputId": "2f43c087-c53a-418a-ed6d-2d77ce5561fe",
        "colab": {
          "base_uri": "https://localhost:8080/",
          "height": 136
        }
      },
      "source": [
        "escuela=\"FES Aragón\"\n",
        "print(escuela)\n",
        "print(\"----\")\n",
        "edad=13\n",
        "estatura=1.67\n",
        "fumador=True\n",
        "frase=\"\"\"\n",
        "Esta es una frase de \n",
        "multiples lineas y \n",
        "tambien es un tipo de dato\n",
        "\"\"\"\n",
        "print(frase)\n",
        "nombre = 'jose'\n",
        "nombre_complet = \"jose sosa cardenas\"\n",
        "\n",
        "\n"
      ],
      "execution_count": 4,
      "outputs": [
        {
          "output_type": "stream",
          "text": [
            "FES Aragón\n",
            "----\n",
            "\n",
            "Esta es una frase de \n",
            "multiples lineas y \n",
            "tambien es un tipo de dato\n",
            "\n"
          ],
          "name": "stdout"
        }
      ]
    },
    {
      "cell_type": "markdown",
      "metadata": {
        "id": "08M_ea-s94i_"
      },
      "source": [
        "#Print\n",
        "con comas, con signo mas(+)\n",
        "con format() y con el operador f\"\"\n"
      ]
    },
    {
      "cell_type": "code",
      "metadata": {
        "id": "F1iyiNh9-EMs",
        "outputId": "91362870-aac0-4f0f-e65f-3cb15a17d605",
        "colab": {
          "base_uri": "https://localhost:8080/",
          "height": 34
        }
      },
      "source": [
        "print (nombre,edad)"
      ],
      "execution_count": 5,
      "outputs": [
        {
          "output_type": "stream",
          "text": [
            "jose 13\n"
          ],
          "name": "stdout"
        }
      ]
    },
    {
      "cell_type": "code",
      "metadata": {
        "id": "FrjChA-q_D3s",
        "outputId": "297f20b8-6d09-4492-b789-a2e54a395b76",
        "colab": {
          "base_uri": "https://localhost:8080/",
          "height": 51
        }
      },
      "source": [
        "# + concatena\n",
        "print(nombre +str(edad))\n",
        "print(nombre+nombre_complet)"
      ],
      "execution_count": 7,
      "outputs": [
        {
          "output_type": "stream",
          "text": [
            "jose13\n",
            "josejose sosa cardenas\n"
          ],
          "name": "stdout"
        }
      ]
    },
    {
      "cell_type": "code",
      "metadata": {
        "id": "AO-hULBJAXXp",
        "outputId": "d311bc1b-4f7b-420a-9042-7f388b363435",
        "colab": {
          "base_uri": "https://localhost:8080/",
          "height": 68
        }
      },
      "source": [
        "#con formato -> Su nombre es Jose y su edad es 13 años\n",
        "print(\"Su nombre es\",nombre,\"y su edad es de\",edad,\"años.\")\n",
        "print(\"Su nombre es {0} y su edad es de {1} años.\".format(nombre, edad))\n",
        "print(\"Su nombre es {1} y su edad es de {0} años.\".format(nombre, edad))"
      ],
      "execution_count": 11,
      "outputs": [
        {
          "output_type": "stream",
          "text": [
            "Su nombre es jose y su edad es de 13 años.\n",
            "Su nombre es jose y su edad es de 13 años.\n",
            "Su nombre es 13 y su edad es de jose años.\n"
          ],
          "name": "stdout"
        }
      ]
    },
    {
      "cell_type": "code",
      "metadata": {
        "id": "9RM-i7loBxDq",
        "outputId": "81b0e298-c599-4e00-a5bd-8667923b7ddf",
        "colab": {
          "base_uri": "https://localhost:8080/",
          "height": 34
        }
      },
      "source": [
        "# con formato con el operador f\"\"\n",
        "print(f\"Su nombre es {nombre} y su edad es de {edad} años.\")"
      ],
      "execution_count": 12,
      "outputs": [
        {
          "output_type": "stream",
          "text": [
            "Su nombre es jose y su edad es de 13 años.\n"
          ],
          "name": "stdout"
        }
      ]
    },
    {
      "cell_type": "markdown",
      "metadata": {
        "id": "n6mBx6ZnCUSu"
      },
      "source": [
        "# Carácter de escape\n",
        "\\n salto de linea\n",
        "\n",
        "\\t tabulador\n",
        "\n",
        "\\a beep\n",
        "\n",
        "\\\\\"\n",
        "\n",
        "\\\\' "
      ]
    },
    {
      "cell_type": "code",
      "metadata": {
        "id": "onCG9LID9Lxn",
        "outputId": "1516871d-b2de-4c26-9c3f-994647db0e00",
        "colab": {
          "base_uri": "https://localhost:8080/",
          "height": 51
        }
      },
      "source": [
        "\"\"\"\n",
        "Esto es un comentario\n",
        "de multiple linea\n",
        "tan tan \n",
        "\"\"\"\n",
        "print(f\"\\tMi nombre es \\n\\t\\t{nombre}\")"
      ],
      "execution_count": 13,
      "outputs": [
        {
          "output_type": "stream",
          "text": [
            "\tMi nombre es \n",
            "\t\tjose\n"
          ],
          "name": "stdout"
        }
      ]
    },
    {
      "cell_type": "markdown",
      "metadata": {
        "id": "GYGcCw7IEQ53"
      },
      "source": [
        "#Ayuda de tipos dr dato en python\n",
        "dir() help()\n"
      ]
    },
    {
      "cell_type": "code",
      "metadata": {
        "id": "7G0xfyxGEmrQ"
      },
      "source": [
        "#str, int, floa, bool ... list, dict, set\n",
        "dir(str)"
      ],
      "execution_count": null,
      "outputs": []
    },
    {
      "cell_type": "code",
      "metadata": {
        "id": "pqlh5vQrFN6K",
        "outputId": "a01c4b50-1bec-49ac-ea5c-8bb51ba91b78",
        "colab": {
          "base_uri": "https://localhost:8080/",
          "height": 51
        }
      },
      "source": [
        "print(nombre_complet.capitalize())\n",
        "print(nombre_complet.upper(),end=\"----\")\n",
        "print(nombre_complet.title())"
      ],
      "execution_count": 19,
      "outputs": [
        {
          "output_type": "stream",
          "text": [
            "Jose sosa cardenas\n",
            "JOSE SOSA CARDENAS----Jose Sosa Cardenas\n"
          ],
          "name": "stdout"
        }
      ]
    },
    {
      "cell_type": "code",
      "metadata": {
        "id": "VroYVlXWGDBj"
      },
      "source": [
        "help(print)"
      ],
      "execution_count": null,
      "outputs": []
    },
    {
      "cell_type": "markdown",
      "metadata": {
        "id": "TrAbrgpYGqyf"
      },
      "source": [
        "#Clase String\n",
        "Es manejada como un arreglo (c o java) o lista{python}\n",
        "\n",
        "telefono=\"Huawei mate 30 pro\""
      ]
    },
    {
      "cell_type": "code",
      "metadata": {
        "id": "kLvxm5r7H3Fe",
        "outputId": "84fe482f-8ccd-457d-cb2a-7a2d3a16953f",
        "colab": {
          "base_uri": "https://localhost:8080/",
          "height": 34
        }
      },
      "source": [
        "telefono=\"Huawei mate 30 pro\"\n",
        "print(telefono[5])"
      ],
      "execution_count": 24,
      "outputs": [
        {
          "output_type": "stream",
          "text": [
            "i\n"
          ],
          "name": "stdout"
        }
      ]
    },
    {
      "cell_type": "markdown",
      "metadata": {
        "id": "IXPSO49OIO-w"
      },
      "source": [
        "#Slicing (rebanado)\n",
        "[inicio:stop:incremento]\n",
        "nota: el stop no se incluye, termina en el valor al stop"
      ]
    },
    {
      "cell_type": "code",
      "metadata": {
        "id": "cz7OVu-UI1bj",
        "outputId": "3cf56366-301c-4b2c-8cb2-0ee933474423",
        "colab": {
          "base_uri": "https://localhost:8080/",
          "height": 119
        }
      },
      "source": [
        "print(telefono[7:11:1])\n",
        "#el inicio y el incremento son opcionales\n",
        "print(telefono[:11:])\n",
        "#el valor por defecto de stop es len(str)\n",
        "print(telefono[::])\n",
        "# incremento negtivo\n",
        "print(telefono[::-1])\n",
        "#\n",
        "print(telefono[-3::1])\n",
        "#slacing negativo\n",
        "ini=-3\n",
        "inc=1\n",
        "print(telefono[ini::inc])"
      ],
      "execution_count": 32,
      "outputs": [
        {
          "output_type": "stream",
          "text": [
            "mate\n",
            "Huawei mate\n",
            "Huawei mate 30 pro\n",
            "orp 03 etam iewauH\n",
            "pro\n",
            "pro\n"
          ],
          "name": "stdout"
        }
      ]
    },
    {
      "cell_type": "markdown",
      "metadata": {
        "id": "DKbV1o9_NRyg"
      },
      "source": [
        "#Funciones de String(str)\n",
        "Existen metodos muy utiles en esta clase"
      ]
    },
    {
      "cell_type": "code",
      "metadata": {
        "id": "zAGaMGV8NdhM",
        "outputId": "31498ff9-4566-46b2-836f-342674f215d1",
        "colab": {
          "base_uri": "https://localhost:8080/",
          "height": 136
        }
      },
      "source": [
        "facultad =\"    facultad de estudios superiores aragon      \"\n",
        "print(facultad)\n",
        "print(facultad.count(\"u\") ) #cuenta el numero de lementos en la cadena\n",
        "print(facultad.find(\"s\") ) \n",
        "print(facultad.strip() ) #remueve espacio en blanco (al inicio y al final, tambien quita saltos de linea)\n",
        "tamaño=len(facultad)\n",
        "print(len(facultad))#regresa la longitud de string\n",
        "print(f\"tamaño de la cadena es {tamaño} caraacteres\")\n",
        "print(facultad.split(\"t\"))"
      ],
      "execution_count": 35,
      "outputs": [
        {
          "output_type": "stream",
          "text": [
            "    facultad de estudios superiores aragon      \n",
            "3\n",
            "17\n",
            "facultad de estudios superiores aragon\n",
            "48\n",
            "tamaño de la cadena es 48 caraacteres\n",
            "['    facul', 'ad de es', 'udios superiores aragon      ']\n"
          ],
          "name": "stdout"
        }
      ]
    },
    {
      "cell_type": "code",
      "metadata": {
        "id": "gdb3QNF5MwfX"
      },
      "source": [
        ""
      ],
      "execution_count": null,
      "outputs": []
    }
  ]
}