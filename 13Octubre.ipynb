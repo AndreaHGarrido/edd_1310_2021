{
  "nbformat": 4,
  "nbformat_minor": 0,
  "metadata": {
    "colab": {
      "name": "13Octubre.ipynb",
      "provenance": [],
      "authorship_tag": "ABX9TyPeXaoJo6VBoCo2N4ufsTod",
      "include_colab_link": true
    },
    "kernelspec": {
      "name": "python3",
      "display_name": "Python 3"
    }
  },
  "cells": [
    {
      "cell_type": "markdown",
      "metadata": {
        "id": "view-in-github",
        "colab_type": "text"
      },
      "source": [
        "<a href=\"https://colab.research.google.com/github/AndreaHGarrido/edd_1310_2021/blob/master/13Octubre.ipynb\" target=\"_parent\"><img src=\"https://colab.research.google.com/assets/colab-badge.svg\" alt=\"Open In Colab\"/></a>"
      ]
    },
    {
      "cell_type": "code",
      "metadata": {
        "id": "WHs9st6vuiMQ",
        "outputId": "df93d249-bb1a-46d3-8c61-90bc1853f74b",
        "colab": {
          "base_uri": "https://localhost:8080/",
          "height": 88
        }
      },
      "source": [
        "alumno = { \n",
        "          \"num_cta\" : 303030303 ,\n",
        "          \"carrera\" : \"ICO\",\n",
        "          \"promedio\" : 9.8,\n",
        "          \"materias\" :[\"EDD\",\"CyP\",\"Calidad\",\"Emprendimiento\"],\n",
        "          \"direccion\" : { \n",
        "                            \"calle\":\"rancho seco\",\n",
        "                            \"numero\" : 23 ,\n",
        "                            \"delegacion\" : \"Neza\",\n",
        "                            \"estado\" : {\n",
        "                                        \"id\" : 15 ,\n",
        "                                        \"nombre\" : \"Estado de Máxico\" ,\n",
        "                                        \"nombre_corto\" : \"EdoMex\"\n",
        "                                        } ,\n",
        "                            \"CP\":57170\n",
        "\n",
        "                        } \n",
        "          }\n",
        "print(alumno)   \n",
        "alumno['carrera']= \"Ingeniería en Compitación\"\n",
        "print(alumno)\n",
        "alumno['nombre_completo']={'primer': \"Juan\",\n",
        "                           'segundo':\"Pedro\",\n",
        "                           \"materno\":\"Perez\",\n",
        "                           \"paterno\":\"Gomez\"\n",
        "                           }\n",
        "\n",
        "alumno['semestre']=3\n",
        "print(alumno)\n",
        "\n",
        "print(f\"{alumno['nombre_completo']['primer']} {alumno['nombre_completo']['segundo']}\")\n"
      ],
      "execution_count": 4,
      "outputs": [
        {
          "output_type": "stream",
          "text": [
            "{'num_cta': 303030303, 'carrera': 'ICO', 'promedio': 9.8, 'materias': ['EDD', 'CyP', 'Calidad', 'Emprendimiento'], 'direccion': {'calle': 'rancho seco', 'numero': 23, 'delegacion': 'Neza', 'estado': {'id': 15, 'nombre': 'Estado de Máxico', 'nombre_corto': 'EdoMex'}, 'CP': 57170}}\n",
            "{'num_cta': 303030303, 'carrera': 'Ingeniería en Compitación', 'promedio': 9.8, 'materias': ['EDD', 'CyP', 'Calidad', 'Emprendimiento'], 'direccion': {'calle': 'rancho seco', 'numero': 23, 'delegacion': 'Neza', 'estado': {'id': 15, 'nombre': 'Estado de Máxico', 'nombre_corto': 'EdoMex'}, 'CP': 57170}}\n",
            "{'num_cta': 303030303, 'carrera': 'Ingeniería en Compitación', 'promedio': 9.8, 'materias': ['EDD', 'CyP', 'Calidad', 'Emprendimiento'], 'direccion': {'calle': 'rancho seco', 'numero': 23, 'delegacion': 'Neza', 'estado': {'id': 15, 'nombre': 'Estado de Máxico', 'nombre_corto': 'EdoMex'}, 'CP': 57170}, 'nombre_completo': {'primer': 'Juan', 'segundo': 'Pedro', 'materno': 'Perez', 'paterno': 'Gomez'}, 'semestre': 3}\n"
          ],
          "name": "stdout"
        }
      ]
    },
    {
      "cell_type": "code",
      "metadata": {
        "id": "QzFoSlVluu2K"
      },
      "source": [
        "#key() , values() y items()\n",
        "\n",
        "llaves = alumno.keys()\n",
        "print(llaves)\n",
        "for llave in llaves:\n",
        "  print(llave.upper())\n",
        "\n",
        "  valores = alumno.values()\n",
        "  for val in valores:\n",
        "    print(val)\n",
        "\n",
        "  pares= alumno.items()\n",
        "  print(pares)\n",
        "  for elem in pares:\n",
        "    print(f\"el campo { elem [0] } tiene el valor {elem[1]}\")"
      ],
      "execution_count": null,
      "outputs": []
    },
    {
      "cell_type": "code",
      "metadata": {
        "id": "jaSxkAWCywgD",
        "outputId": "6fd58b07-de4e-4ec3-f362-d631973a3ced",
        "colab": {
          "base_uri": "https://localhost:8080/",
          "height": 34
        }
      },
      "source": [
        "computadora = {\"procesador\": \"Intel i7\", \"ram\" : \"Kingston 120GB\"}\n",
        "otros = {\"monitor\":\"LG 49\\\"\",\"hd\":\"Toshiba 1TB\"}\n",
        "computadora.update(otros)\n",
        "print(computadora)"
      ],
      "execution_count": 21,
      "outputs": [
        {
          "output_type": "stream",
          "text": [
            "{'procesador': 'Intel i7', 'ram': 'Kingston 120GB', 'monitor': 'LG 49\"', 'hd': 'Toshiba 1TB'}\n"
          ],
          "name": "stdout"
        }
      ]
    },
    {
      "cell_type": "markdown",
      "metadata": {
        "id": "IooH5-2H2odS"
      },
      "source": [
        "#**Funciones (modularidad)**\n",
        "- unidades de código reutilizable\n",
        "-Es un mecanismo de organización de codigo\n",
        "-Una funcion toma 0 a n parametros de entrada\n",
        "-Tiene una sola salida (return) de cualquier tipode dato\n",
        "-solo puedes hacer dos cosas\n",
        "      -definirla\n",
        "      -llamarla\n"
      ]
    },
    {
      "cell_type": "code",
      "metadata": {
        "id": "IO0pDc8d1qtW"
      },
      "source": [
        "def sumar (x, y) :\n",
        "  resultado = x + y\n",
        "  return resultado\n",
        "\n",
        "def saludar (nombre) :\n",
        "  print(f\"Hola {nombre}, ¿Como estas?\")\n",
        "  return None\n",
        "\n",
        "  def multiplicar (valor, veces):\n",
        "    if valor!= None :\n",
        "      c = valor * veces\n",
        "    else:\n",
        "        c =\"Operacion no valida\"\n",
        "        return c\n",
        "\n",
        "def operation ( a , b , c ):\n",
        "  res = a + ( b / c)\n",
        "  return res \n",
        "\n",
        "  #valores por defecto\n",
        "  def comanda(primer , fuerte , postre ):\n",
        "    print(f\"De entrada pidiio:{primer} \")\n",
        "    print(f\"De plato fuerte pidio: {fuerte} \")\n",
        "    print(f\"De postre pidio:{ postre}\")\n",
        "\n",
        "  print(sumar(10,5))\n",
        "  print(sumar(2,6))\n",
        "  saludar(\"Jesus\")\n",
        "  print(multiplicar(5,6))\n",
        "  print(multiplicar(None,6))\n",
        "\n",
        "  print(operación(2,9,3))\n",
        "\n",
        "  print(operación(a=2,c=3,b=9))\n"
      ],
      "execution_count": 30,
      "outputs": []
    },
    {
      "cell_type": "code",
      "metadata": {
        "id": "W28741sN4coM"
      },
      "source": [
        "#valores por defecto\n",
        "def comanda( primer , fuerte , postre=\"Galleta\" ):\n",
        "    print(f\"De entrada pidiio:{primer} \")\n",
        "    print(f\"De plato fuerte pidio: {fuerte} \")\n",
        "    print(f\"De postre pidio:{ postre }\")\n",
        "\n",
        "#argumentos posicionales con tuplas *\n",
        "def comanda_2(*opciones)\n",
        "    print(f\"De entrada pidiio:{opciones[0]} \")\n",
        "    print(f\"De plato fuerte pidio: {opciones[1]} \")\n",
        "    print(f\"De postre pidio:{ opciones[2] }\")\n",
        "\n",
        "def comanda3 ( **opciones ):\n",
        "  print(opciones)\n",
        "  for opc in opciones.items():\n",
        "    print(f\"{opc[0]} -> {opc[1]}\")\n",
        "\n",
        "  comanda3(primer=\"sopa de pasta\", fuerte=\"tacos\" , postre=\"flan de la abuela\", \n",
        "           extra1=\"bien dorados\", extra2=\"con muchos limones\", extra3=\"Abua de horchata\")    \n",
        "\n",
        "\n",
        " comanda( \"sopa\" , \"tortas de papa\" , \"gelatina\" )   \n",
        " comanda(\"sopa\",\"tortas de papa\")\n",
        "comanda_2(\"sopa\",\"tortas de papa\",\"gelatina\",\n",
        "          \"las tortas bien doradas, traer dos limones\")\n"
      ],
      "execution_count": null,
      "outputs": []
    },
    {
      "cell_type": "code",
      "metadata": {
        "id": "RcP6h8eW-rUc"
      },
      "source": [
        ""
      ],
      "execution_count": null,
      "outputs": []
    }
  ]
}