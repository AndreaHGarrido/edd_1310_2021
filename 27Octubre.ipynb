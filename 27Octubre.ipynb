{
  "nbformat": 4,
  "nbformat_minor": 0,
  "metadata": {
    "colab": {
      "name": "27Octubre.ipynb",
      "provenance": [],
      "authorship_tag": "ABX9TyNXhjRF6ctmG0MBlFX0Ak0K",
      "include_colab_link": true
    },
    "kernelspec": {
      "name": "python3",
      "display_name": "Python 3"
    }
  },
  "cells": [
    {
      "cell_type": "markdown",
      "metadata": {
        "id": "view-in-github",
        "colab_type": "text"
      },
      "source": [
        "<a href=\"https://colab.research.google.com/github/AndreaHGarrido/edd_1310_2021/blob/master/27Octubre.ipynb\" target=\"_parent\"><img src=\"https://colab.research.google.com/assets/colab-badge.svg\" alt=\"Open In Colab\"/></a>"
      ]
    },
    {
      "cell_type": "code",
      "metadata": {
        "id": "PWFiB4QQCMkU"
      },
      "source": [
        ""
      ],
      "execution_count": null,
      "outputs": []
    },
    {
      "cell_type": "code",
      "metadata": {
        "id": "qC8WM_w5L4bJ",
        "outputId": "967700ae-3212-4607-cc1b-6c083fe1f9b3",
        "colab": {
          "base_uri": "https://localhost:8080/",
          "height": 51
        }
      },
      "source": [
        "class Computadora:\n",
        "    def __init__( self , m , p): #constructor\n",
        "        self.__marca = m #si el atrinuto empieza con doble guion bajo se #le considera privato(no se puede modificar fuera de la clase)\n",
        "        self.__procesador = p\n",
        "\n",
        "    def to_string( self ):\n",
        "        return \"MArca:\"+self.__marca+\" Procesador:\"+self.__procesador\n",
        "\n",
        "        #encapsulamiento tradicional\n",
        "#self porque python no esta echo para python, y con este recibe una copia del objeto\n",
        "    def set_marca( self , m ):\n",
        "      self.__marca = m\n",
        "\n",
        "    def get_marca(self):\n",
        "      return self.__marca\n",
        "\n",
        "    def set_procesador( self, p):\n",
        "      self.__procesador = p\n",
        "\n",
        "    def get_procesador(self):\n",
        "      return self.__procesador\n",
        "\n",
        "mi_pc = Computadora(\"Toshiba\",\"Intel i7\")#(Constructor)\n",
        "print(mi_pc.to_string())\n",
        "mi_pc.__marca=\"HP\"#Intentando cambiar el valor privado\n",
        "mi_pc.set_marca(\"HP co.\")\n",
        "print(mi_pc.to_string()) "
      ],
      "execution_count": 5,
      "outputs": [
        {
          "output_type": "stream",
          "text": [
            "MArca:Toshiba Procesador:Intel i7\n",
            "MArca:HP co. Procesador:Intel i7\n"
          ],
          "name": "stdout"
        }
      ]
    },
    {
      "cell_type": "markdown",
      "metadata": {
        "id": "d03E98m4ESNO"
      },
      "source": [
        "#encaptulamiento python 3\n",
        "## tradicional tipo java\n",
        "     void setAtributo( val )\n",
        "     tipo getAtributo( )\n",
        "##estilo python 3\n",
        "UTILIZANDO DECORADORES\n",
        "- @property\n",
        "- @atributo.setter"
      ]
    },
    {
      "cell_type": "code",
      "metadata": {
        "id": "FzbU1KdoH2bQ",
        "outputId": "71f0a070-c50c-4bc9-c2a2-6c32c1201e28",
        "colab": {
          "base_uri": "https://localhost:8080/",
          "height": 51
        }
      },
      "source": [
        "class Computadora:\n",
        "  def __init__( self , m , p):\n",
        "    self.marca = m #NO se declara, se manda a llamar el metodo decorador @property\n",
        "    self.procesador = p #idem\n",
        "\n",
        "  @property # se declara como atributo privato y funciona como metodo get\n",
        "  def marca( self ):\n",
        "      return self.__marca  \n",
        "\n",
        "  @marca.setter\n",
        "  def marca( self , m ):\n",
        "      self.__marca = m \n",
        "\n",
        "  @property\n",
        "  def procesador( self ): \n",
        "      return self.__procesador\n",
        "\n",
        "  @procesador.setter\n",
        "  def procesador( self , p ):\n",
        "      self.__procesador = p       \n",
        "\n",
        "  def to_string( self ):\n",
        "      return \"marca:\" + self.__marca + \"Procesador:\" + self.procesador\n",
        "\n",
        "mi_pc2 = Computadora(\"Mac Book pro\", \" Intel i7\")\n",
        "print(mi_pc2.to_string() )\n",
        "mi_pc2.marca = \"Dell\"\n",
        "print(mi_pc2.to_string() )\n"
      ],
      "execution_count": 6,
      "outputs": [
        {
          "output_type": "stream",
          "text": [
            "marca:Mac Book proProcesador: Intel i7\n",
            "marca:DellProcesador: Intel i7\n"
          ],
          "name": "stdout"
        }
      ]
    },
    {
      "cell_type": "code",
      "metadata": {
        "id": "REApeEFDCVjv"
      },
      "source": [
        "#herencia , pasando la clase base a la declaracion\n",
        "class ServidorEmpresarial( Computadora): \n",
        "    def __init__( self ):\n",
        "        print(\"Hola servidor\")\n",
        "\n",
        "server = ServidorEmpresarial()\n",
        "server.marca = \"Sun Micro Systems\"\n",
        "server.procesador = \"intel i7\"\n",
        "\n",
        "print(server.to_string() )"
      ],
      "execution_count": null,
      "outputs": []
    },
    {
      "cell_type": "code",
      "metadata": {
        "id": "nYrSVDWKRpWG"
      },
      "source": [
        ""
      ],
      "execution_count": null,
      "outputs": []
    }
  ]
}