{
  "nbformat": 4,
  "nbformat_minor": 0,
  "metadata": {
    "colab": {
      "name": "Tarea2.ipynb",
      "provenance": [],
      "collapsed_sections": [],
      "authorship_tag": "ABX9TyOls7TbpLjv3yhvazGP0YRG",
      "include_colab_link": true
    },
    "kernelspec": {
      "name": "python3",
      "display_name": "Python 3"
    }
  },
  "cells": [
    {
      "cell_type": "markdown",
      "metadata": {
        "id": "view-in-github",
        "colab_type": "text"
      },
      "source": [
        "<a href=\"https://colab.research.google.com/github/AndreaHGarrido/edd_1310_2021/blob/master/Tarea2.ipynb\" target=\"_parent\"><img src=\"https://colab.research.google.com/assets/colab-badge.svg\" alt=\"Open In Colab\"/></a>"
      ]
    },
    {
      "cell_type": "code",
      "metadata": {
        "id": "6avoIkWGBTDJ",
        "outputId": "985a9253-dda8-4314-8188-b047d1f9f00b",
        "colab": {
          "base_uri": "https://localhost:8080/",
          "height": 374
        }
      },
      "source": [
        "#Se necesita eliminar manualmente la parte de texto del archivo\n",
        "\n",
        "arch = open(\"Datos.txt\",\"r\")\n",
        "\n",
        "def suma(listaDatos):\n",
        "    SumaL = 0\n",
        "    for i in listaDatos:\n",
        "        SumaL = SumaL + i\n",
        "    return SumaL\n",
        "\n",
        "\n",
        "for linea in arch.readlines():\n",
        "      lineas=linea.replace((\" \"),(\"\")).strip().split(',')\n",
        "\n",
        "\n",
        "\n",
        "      if lineas == [\"\"]:\n",
        "          None\n",
        "      else :\n",
        "          for j in range (len (lineas)):\n",
        "              lineas[j]=int(lineas[j].strip())\n",
        "          print (lineas)\n",
        "          suma_linea = sum(lineas)\n",
        "          print(f\"El resultado de la suma es: {suma_linea}\")\n",
        "          \n",
        "\n",
        "r = sum([406,367,814,418,786,513,745,585,154,220])\n",
        "print(f\"La suma total es: {r}\") \n",
        "\n",
        "\n",
        "\n",
        "\n"
      ],
      "execution_count": 19,
      "outputs": [
        {
          "output_type": "stream",
          "text": [
            "[1, 2, 1, 14, 29, 45, 5, 58, 56, 10, 29, 14, 88, 17, 4, 3, 1, 7, 12, 10]\n",
            "El resultado de la suma es: 406\n",
            "[2, 23, 5, 8, 44, 2, 2, 13, 5, 9, 10, 16, 98, 76, 47, 1, 1, 3, 2]\n",
            "El resultado de la suma es: 367\n",
            "[3, 87, 15, 11, 9, 7, 90, 97, 21, 3, 4, 1, 8, 88, 74, 32, 34, 43, 17, 77, 93]\n",
            "El resultado de la suma es: 814\n",
            "[4, 46, 8, 1, 6, 2, 10, 37, 84, 4, 5, 9, 10, 2, 6, 31, 1, 1, 8, 4, 20, 33, 23, 18, 45]\n",
            "El resultado de la suma es: 418\n",
            "[55, 3, 2, 29, 58, 83, 9, 17, 1, 43, 20, 93, 31, 46, 43, 77, 8, 44, 45, 17, 62]\n",
            "El resultado de la suma es: 786\n",
            "[6, 74, 13, 44, 18, 45, 11, 93, 2, 1, 1, 1, 25, 1, 42, 18, 22, 44, 52]\n",
            "El resultado de la suma es: 513\n",
            "[7, 88, 93, 6, 54, 2, 8, 1, 41, 86, 79, 33, 48, 9, 32, 63, 18, 7, 33, 2, 1, 16, 11, 7]\n",
            "El resultado de la suma es: 745\n",
            "[8, 0, 22, 17, 30, 6, 2, 12, 47, 37, 34, 85, 47, 33, 2, 6, 8, 4, 5, 29, 30, 42, 77, 2]\n",
            "El resultado de la suma es: 585\n",
            "[9, 2, 3, 4, 1, 1, 3, 6, 7, 7, 8, 9, 5, 1, 3, 4, 9, 10, 12, 3, 1, 5, 6, 22, 11, 0, 2]\n",
            "El resultado de la suma es: 154\n",
            "[1, 0, 2, 55, 9, 3, 55, 23, 1, 6, 9, 4, 5, 3, 3, 2, 1, 3, 8, 1, 6, 10, 0, 1, 5, 1, 3]\n",
            "El resultado de la suma es: 220\n",
            "La suma total es: 5008\n"
          ],
          "name": "stdout"
        }
      ]
    },
    {
      "cell_type": "code",
      "metadata": {
        "id": "l0buOG6dBkv7",
        "outputId": "6a0c9e6b-f216-4429-f386-9f6cc9b07cc0",
        "colab": {
          "base_uri": "https://localhost:8080/",
          "height": 34
        }
      },
      "source": [
        "sum([406,367])"
      ],
      "execution_count": 9,
      "outputs": [
        {
          "output_type": "execute_result",
          "data": {
            "text/plain": [
              "773"
            ]
          },
          "metadata": {
            "tags": []
          },
          "execution_count": 9
        }
      ]
    },
    {
      "cell_type": "code",
      "metadata": {
        "id": "s5n2RVJlvftO"
      },
      "source": [
        ""
      ],
      "execution_count": null,
      "outputs": []
    }
  ]
}