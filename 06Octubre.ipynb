{
  "nbformat": 4,
  "nbformat_minor": 0,
  "metadata": {
    "colab": {
      "name": "06Octubre.ipynb",
      "provenance": [],
      "authorship_tag": "ABX9TyOQJCurdvAAhi4p3pU9NF6s",
      "include_colab_link": true
    },
    "kernelspec": {
      "name": "python3",
      "display_name": "Python 3"
    }
  },
  "cells": [
    {
      "cell_type": "markdown",
      "metadata": {
        "id": "view-in-github",
        "colab_type": "text"
      },
      "source": [
        "<a href=\"https://colab.research.google.com/github/AndreaHGarrido/edd_1310_2021/blob/master/06Octubre.ipynb\" target=\"_parent\"><img src=\"https://colab.research.google.com/assets/colab-badge.svg\" alt=\"Open In Colab\"/></a>"
      ]
    },
    {
      "cell_type": "code",
      "metadata": {
        "id": "QgSVJu6qrAU8"
      },
      "source": [
        "#String continuación\n",
        "\n",
        "numeros_txt = \"    1,2,3,4  ,5  ,35  ,15  ,12\"\n",
        "print(numeros_txt)\n",
        "numeros_txt = numeros_txt.lstrip().split(',')\n",
        "print(numeros_txt)\n",
        "\n",
        "for j in range(len(numeros_txt)):\n",
        "  numeros_txt[ j ] = int(numeros_txt[j].strip())\n",
        "\n",
        "print(numeros_txt)\n",
        "\n",
        "\n",
        "#funcion range()\n",
        "\n",
        "#range(inicio, stop , incremento )\n",
        "print(range(0,10,3))\n",
        "rango = range(1,10,2)\n",
        "\n",
        "for x in rango:\n",
        "  print(x)\n",
        "\n",
        "rango= range(10)  \n",
        "for x in rango:\n",
        "  print(x)"
      ],
      "execution_count": null,
      "outputs": []
    },
    {
      "cell_type": "markdown",
      "metadata": {
        "id": "euI_B3TJxMwB"
      },
      "source": [
        "#listas\n",
        "- muebles\n",
        "- declaran con [ ]\n",
        "- selector[ int ]\n",
        "- Pueden ser de cualquier tipo y mezclado\n",
        "\n",
        "#tuplas\n",
        "- No mutables\n",
        "- Se declaran con ( )\n",
        "-Selector [ int ]\n",
        "\n",
        "#Diccionarios\n",
        "- Son mutables\n",
        "- Son conjunto de paresllave:valor\n",
        "- Equivalentes a los objetos JSON de JavaScript\n",
        "\n",
        "#Conjuntos\n",
        "- representación de la teoria de cojuntos\n",
        "\n"
      ]
    },
    {
      "cell_type": "code",
      "metadata": {
        "id": "NmRcXd1lsbsR",
        "outputId": "0ac757ca-296f-4e5c-eb2f-d75c099832ec",
        "colab": {
          "base_uri": "https://localhost:8080/",
          "height": 153
        }
      },
      "source": [
        "#Listas\n",
        "frutas = [\"Pera\" , \"Manzana\" , \"fresa\" , \"Kiwi\" , \"Naranja\"]\n",
        "print(frutas)\n",
        "cosas = [\"cuaderno\", 2 , 3.1416 , True , False , [\"Rojo\" , \"Azul\" ] ]\n",
        "print(cosas)\n",
        "frutas[2]= \"Fresa\" #frutas[2] = frutas[2].capitalize()\n",
        "print(frutas)\n",
        "#agregar a una lista\n",
        "frutas.append(\"Aguacate\")\n",
        "print(frutas)\n",
        "frutas.insert(2, \"Sandia\") #posicionar nuevo objeto a la lista\n",
        "print(frutas)\n",
        "\n",
        "#concatenar listas\n",
        "fecha = [\"06\",\"10\",\"2020\"]\n",
        "print(fecha)\n",
        "#colocar en 06/10/2020\n",
        "fecha_str = \"/\".join(fecha)\n",
        "print(fecha_str)\n",
        "\n",
        "\n",
        "\n",
        "#help(str)"
      ],
      "execution_count": 19,
      "outputs": [
        {
          "output_type": "stream",
          "text": [
            "['Pera', 'Manzana', 'fresa', 'Kiwi', 'Naranja']\n",
            "['cuaderno', 2, 3.1416, True, False, ['Rojo', 'Azul']]\n",
            "['Pera', 'Manzana', 'Fresa', 'Kiwi', 'Naranja']\n",
            "['Pera', 'Manzana', 'Fresa', 'Kiwi', 'Naranja', 'Aguacate']\n",
            "['Pera', 'Manzana', 'Sandia', 'Fresa', 'Kiwi', 'Naranja', 'Aguacate']\n",
            "['06', '10', '2020']\n",
            "06/10/2020\n",
            "['cuaderno', 2, 3.1416, True, False, ['Rojo', 'Azul']]\n"
          ],
          "name": "stdout"
        }
      ]
    },
    {
      "cell_type": "code",
      "metadata": {
        "id": "rwIXlvQYzaot",
        "outputId": "a8b83ec3-bc0e-4ce8-da95-4c8029bfbdfb",
        "colab": {
          "base_uri": "https://localhost:8080/",
          "height": 170
        }
      },
      "source": [
        "#eliminar elementos\n",
        "cosas = [\"cuaderno\", 2 , 3.1416 , True , False , [\"Rojo\" , \"Azul\" ] ]\n",
        "print(cosas)\n",
        "cosas.append(\"Libro\")\n",
        "cosas.append(\"Lapiz\")\n",
        "print(cosas)\n",
        "algo= cosas.pop()\n",
        "print(cosas)\n",
        "\n",
        "algo = cosas.pop(2)\n",
        "print(cosas)\n",
        "print(algo)\n",
        "cosas.remove(2)\n",
        "print(cosas)\n",
        "\n",
        "#vaciar una lista\n",
        "\n",
        "#cosas.clear()\n",
        "print(cosas)\n",
        "\n",
        "# ordenar\n",
        "print(frutas)\n",
        "frutas.sort()\n",
        "print(frutas)\n",
        "\n",
        "#PARA QUE SORT FUNCIONE, LOS DATOS EN LA LISTA DEBEN TENER CONGRUENCIA ENTRE ELLOS"
      ],
      "execution_count": 28,
      "outputs": [
        {
          "output_type": "stream",
          "text": [
            "['cuaderno', 2, 3.1416, True, False, ['Rojo', 'Azul']]\n",
            "['cuaderno', 2, 3.1416, True, False, ['Rojo', 'Azul'], 'Libro', 'Lapiz']\n",
            "['cuaderno', 2, 3.1416, True, False, ['Rojo', 'Azul'], 'Libro']\n",
            "['cuaderno', 2, True, False, ['Rojo', 'Azul'], 'Libro']\n",
            "3.1416\n",
            "['cuaderno', True, False, ['Rojo', 'Azul'], 'Libro']\n",
            "['cuaderno', True, False, ['Rojo', 'Azul'], 'Libro']\n",
            "['Aguacate', 'Fresa', 'Kiwi', 'Manzana', 'Naranja', 'Pera', 'Sandia']\n",
            "['Aguacate', 'Fresa', 'Kiwi', 'Manzana', 'Naranja', 'Pera', 'Sandia']\n"
          ],
          "name": "stdout"
        }
      ]
    },
    {
      "cell_type": "code",
      "metadata": {
        "id": "-TV5FvQd7Ixp",
        "outputId": "8467261a-304f-448e-f8b6-209fbeb01062",
        "colab": {
          "base_uri": "https://localhost:8080/",
          "height": 119
        }
      },
      "source": [
        "#Slicing\n",
        "\n",
        "cosas = [\"cuaderno\", 2 , 3.1416 , True , False , [\"Rojo\" , \"Azul\" ] ]\n",
        "print(cosas[3:5:1])\n",
        "print(cosas)\n",
        "#pregunta de clase sobre selleccion de letras\n",
        "print(cosas[0][3:5:1]) \n",
        "\n",
        "numeros=[1,2,3,4,5,6,7,8,9,10,11,12,13,14,15]\n",
        "print(numeros[8:13])\n",
        "\n",
        "#sustituir rebanadas\n",
        "numeros[8:13:] = [-2,-2]\n",
        "print(numeros)\n",
        "\n",
        "#preguntar por existencia\n",
        "print( -2 in numeros)\n"
      ],
      "execution_count": 31,
      "outputs": [
        {
          "output_type": "stream",
          "text": [
            "[True, False]\n",
            "['cuaderno', 2, 3.1416, True, False, ['Rojo', 'Azul']]\n",
            "de\n",
            "[9, 10, 11, 12, 13]\n",
            "[1, 2, 3, 4, 5, 6, 7, 8, -2, -2, 14, 15]\n",
            "True\n"
          ],
          "name": "stdout"
        }
      ]
    },
    {
      "cell_type": "code",
      "metadata": {
        "id": "QPSbXFnp3Yl4"
      },
      "source": [
        ""
      ],
      "execution_count": null,
      "outputs": []
    },
    {
      "cell_type": "markdown",
      "metadata": {
        "id": "1Z21oQE5-oci"
      },
      "source": [
        "#Listas multidimension\n",
        "Listas dentro de listas\n"
      ]
    },
    {
      "cell_type": "code",
      "metadata": {
        "id": "sXMIJzku-vny",
        "outputId": "43d5f0f7-d4b2-435c-e55e-44e2ab6aa1b9",
        "colab": {
          "base_uri": "https://localhost:8080/",
          "height": 170
        }
      },
      "source": [
        "computadora = [\"HP\",\"Mac Book Pro 17\", \"Mate book\" , \"Lenovo legion\"]\n",
        "oss = [\"Windows 10\" , \"Linux\" , \"Android\" , \"iOS\"]\n",
        "\n",
        "computo = [computadora, oss]\n",
        "print(computo[0]) \n",
        "print(computo[1])\n",
        "print(computo [0][2][0:5])\n",
        "print(computo[0][3][5: :-1])\n",
        "print(computo[0][3][-8: :-1])\n",
        "print(\"Linux\" in computo[1])\n",
        "\n",
        "dbms =[ [\"Mysql\" ,\"Open Source\" , False ], [\"MS SQL Server\", \"de paga\", True]]\n",
        "computo.append(dbms)\n",
        "print(computo)\n",
        "print(computo[2][0][0])\n",
        "print(computo[2][1][1])  #pregumta que no respondi bien unu\n"
      ],
      "execution_count": 39,
      "outputs": [
        {
          "output_type": "stream",
          "text": [
            "['HP', 'Mac Book Pro 17', 'Mate book', 'Lenovo legion']\n",
            "['Windows 10', 'Linux', 'Android', 'iOS']\n",
            "Mate \n",
            "ovoneL\n",
            "ovoneL\n",
            "True\n",
            "[['HP', 'Mac Book Pro 17', 'Mate book', 'Lenovo legion'], ['Windows 10', 'Linux', 'Android', 'iOS'], [['Mysql', 'Open Source', False], ['MS SQL Server', 'de paga', True]]]\n",
            "Mysql\n",
            "de paga\n"
          ],
          "name": "stdout"
        }
      ]
    },
    {
      "cell_type": "code",
      "metadata": {
        "id": "608o1Qia_xLg"
      },
      "source": [
        ""
      ],
      "execution_count": null,
      "outputs": []
    }
  ]
}