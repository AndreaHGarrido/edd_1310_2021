{
  "nbformat": 4,
  "nbformat_minor": 0,
  "metadata": {
    "colab": {
      "name": "Untitled0.ipynb",
      "provenance": [],
      "authorship_tag": "ABX9TyPQc5shUKhAk7ihpE+3Nt4X",
      "include_colab_link": true
    },
    "kernelspec": {
      "name": "python3",
      "display_name": "Python 3"
    }
  },
  "cells": [
    {
      "cell_type": "markdown",
      "metadata": {
        "id": "view-in-github",
        "colab_type": "text"
      },
      "source": [
        "<a href=\"https://colab.research.google.com/github/AndreaHGarrido/edd_1310_2021/blob/master/29Septiembre.ipynb\" target=\"_parent\"><img src=\"https://colab.research.google.com/assets/colab-badge.svg\" alt=\"Open In Colab\"/></a>"
      ]
    },
    {
      "cell_type": "code",
      "metadata": {
        "id": "_IdiuHVUssi7"
      },
      "source": [
        "edad = 10"
      ],
      "execution_count": null,
      "outputs": []
    },
    {
      "cell_type": "code",
      "metadata": {
        "id": "TEz6H7GlvLOr",
        "outputId": "e9655ca0-ef19-43c6-c5cc-690b8d3b32f3",
        "colab": {
          "base_uri": "https://localhost:8080/",
          "height": 197
        }
      },
      "source": [
        "print (edad)\n",
        "colores=[\"rojo\",\"azul\",\"verde\",\"morado\",\"violeta\"]\n",
        "print (colores)"
      ],
      "execution_count": 8,
      "outputs": [
        {
          "output_type": "error",
          "ename": "NameError",
          "evalue": "ignored",
          "traceback": [
            "\u001b[0;31m---------------------------------------------------------------------------\u001b[0m",
            "\u001b[0;31mNameError\u001b[0m                                 Traceback (most recent call last)",
            "\u001b[0;32m<ipython-input-8-1aacd76d1214>\u001b[0m in \u001b[0;36m<module>\u001b[0;34m()\u001b[0m\n\u001b[0;32m----> 1\u001b[0;31m \u001b[0mprint\u001b[0m \u001b[0;34m(\u001b[0m\u001b[0medad\u001b[0m\u001b[0;34m)\u001b[0m\u001b[0;34m\u001b[0m\u001b[0;34m\u001b[0m\u001b[0m\n\u001b[0m\u001b[1;32m      2\u001b[0m \u001b[0mcolores\u001b[0m\u001b[0;34m=\u001b[0m\u001b[0;34m[\u001b[0m\u001b[0;34m\"rojo\"\u001b[0m\u001b[0;34m,\u001b[0m\u001b[0;34m\"azul\"\u001b[0m\u001b[0;34m,\u001b[0m\u001b[0;34m\"verde\"\u001b[0m\u001b[0;34m,\u001b[0m\u001b[0;34m\"morado\"\u001b[0m\u001b[0;34m,\u001b[0m\u001b[0;34m\"violeta\"\u001b[0m\u001b[0;34m]\u001b[0m\u001b[0;34m\u001b[0m\u001b[0;34m\u001b[0m\u001b[0m\n\u001b[1;32m      3\u001b[0m \u001b[0mprint\u001b[0m \u001b[0;34m(\u001b[0m\u001b[0mcolores\u001b[0m\u001b[0;34m)\u001b[0m\u001b[0;34m\u001b[0m\u001b[0;34m\u001b[0m\u001b[0m\n",
            "\u001b[0;31mNameError\u001b[0m: name 'edad' is not defined"
          ]
        }
      ]
    },
    {
      "cell_type": "code",
      "metadata": {
        "id": "0O59HlBnwZGJ",
        "outputId": "ca14d87a-5e15-4431-93d6-a4bd3a51e0d5",
        "colab": {
          "base_uri": "https://localhost:8080/",
          "height": 34
        }
      },
      "source": [
        "print (colores[3])"
      ],
      "execution_count": 5,
      "outputs": [
        {
          "output_type": "stream",
          "text": [
            "morado\n"
          ],
          "name": "stdout"
        }
      ]
    },
    {
      "cell_type": "code",
      "metadata": {
        "id": "AEnv5E_DxFWb",
        "outputId": "4399ed12-97e1-4281-a9fe-164efbc0608e",
        "colab": {
          "base_uri": "https://localhost:8080/",
          "height": 68
        }
      },
      "source": [
        "print(colores[3][2:4])\n",
        "nombre=\"Alberto\"\n",
        "print(nombre[0])\n",
        "print(nombre[0:3:1])"
      ],
      "execution_count": 9,
      "outputs": [
        {
          "output_type": "stream",
          "text": [
            "ra\n",
            "A\n",
            "Alb\n"
          ],
          "name": "stdout"
        }
      ]
    },
    {
      "cell_type": "markdown",
      "metadata": {
        "id": "crqjaRQJ9dY6"
      },
      "source": [
        "For en Python 3 \n",
        "\n",
        "2 variantes\n",
        "1. j in range(nini,tope,incremento)\n",
        "2. in[iterator]"
      ]
    },
    {
      "cell_type": "code",
      "metadata": {
        "id": "P6mN16KE9t5j",
        "outputId": "e165ce21-14bc-4c8d-c417-a6a53799f56d",
        "colab": {
          "base_uri": "https://localhost:8080/",
          "height": 102
        }
      },
      "source": [
        "for j in range(0,5,1):\n",
        "  print(colores[j])\n",
        "  "
      ],
      "execution_count": 10,
      "outputs": [
        {
          "output_type": "stream",
          "text": [
            "rojo\n",
            "azul\n",
            "verde\n",
            "morado\n",
            "violeta\n"
          ],
          "name": "stdout"
        }
      ]
    },
    {
      "cell_type": "code",
      "metadata": {
        "id": "HhffliDB9yk_",
        "outputId": "21131b82-d961-473d-88af-2d544aad9872",
        "colab": {
          "base_uri": "https://localhost:8080/",
          "height": 102
        }
      },
      "source": [
        "for color in colores:\n",
        "  print(color)\n",
        "  "
      ],
      "execution_count": 11,
      "outputs": [
        {
          "output_type": "stream",
          "text": [
            "rojo\n",
            "azul\n",
            "verde\n",
            "morado\n",
            "violeta\n"
          ],
          "name": "stdout"
        }
      ]
    },
    {
      "cell_type": "code",
      "metadata": {
        "id": "DuVQ-iUT913z",
        "outputId": "7d9afea7-742f-4726-fb4d-0ed2edefc557",
        "colab": {
          "base_uri": "https://localhost:8080/",
          "height": 136
        }
      },
      "source": [
        "for j in range(0,len(nombre),1):\n",
        "  print(nombre[j])"
      ],
      "execution_count": 12,
      "outputs": [
        {
          "output_type": "stream",
          "text": [
            "A\n",
            "l\n",
            "b\n",
            "e\n",
            "r\n",
            "t\n",
            "o\n"
          ],
          "name": "stdout"
        }
      ]
    },
    {
      "cell_type": "code",
      "metadata": {
        "id": "sM5UZSQo95rh",
        "outputId": "42725981-fe16-40d3-970f-26cef7736d52",
        "colab": {
          "base_uri": "https://localhost:8080/",
          "height": 136
        }
      },
      "source": [
        "for letra in nombre:\n",
        "  print(letra)\n"
      ],
      "execution_count": 13,
      "outputs": [
        {
          "output_type": "stream",
          "text": [
            "A\n",
            "l\n",
            "b\n",
            "e\n",
            "r\n",
            "t\n",
            "o\n"
          ],
          "name": "stdout"
        }
      ]
    },
    {
      "cell_type": "markdown",
      "metadata": {
        "id": "h2yZf21gycFj"
      },
      "source": [
        "#**que es Markdown**\n",
        "\n",
        "Markdown en un lenguaje de marcado para documentar código. El objetivo es simplificar la escritura de lenguaje HTML.\n",
        "**negritas**\n",
        "\n",
        "![conejo](data:image/png;base64,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)\n"
      ]
    }
  ]
}