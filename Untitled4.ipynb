{
  "nbformat": 4,
  "nbformat_minor": 0,
  "metadata": {
    "colab": {
      "name": "Untitled4.ipynb",
      "provenance": [],
      "authorship_tag": "ABX9TyOo7wciCCyTtDTgeoKX2+5q",
      "include_colab_link": true
    },
    "kernelspec": {
      "name": "python3",
      "display_name": "Python 3"
    }
  },
  "cells": [
    {
      "cell_type": "markdown",
      "metadata": {
        "id": "view-in-github",
        "colab_type": "text"
      },
      "source": [
        "<a href=\"https://colab.research.google.com/github/AndreaHGarrido/edd_1310_2021/blob/master/Untitled4.ipynb\" target=\"_parent\"><img src=\"https://colab.research.google.com/assets/colab-badge.svg\" alt=\"Open In Colab\"/></a>"
      ]
    },
    {
      "cell_type": "code",
      "metadata": {
        "id": "Asls2NHCzGmu",
        "outputId": "d8b8757a-fb76-49ca-cd91-7ae350af6a1d",
        "colab": {
          "base_uri": "https://localhost:8080/",
          "height": 272
        }
      },
      "source": [
        "archivo = open('numeros.txt','rt')\n",
        "for linea in archivo.readlines():#lectura\n",
        "  for trunc in linea.split(','): #comas\n",
        "      print(int(trunc.strip())) #espacios"
      ],
      "execution_count": 6,
      "outputs": [
        {
          "output_type": "stream",
          "text": [
            "23\n",
            "23\n",
            "44\n",
            "55\n",
            "5\n",
            "44\n",
            "4\n",
            "5\n",
            "7\n",
            "7\n",
            "6\n",
            "5\n",
            "4\n",
            "2\n",
            "1\n"
          ],
          "name": "stdout"
        }
      ]
    },
    {
      "cell_type": "markdown",
      "metadata": {
        "id": "OSZ8dYPr2sKe"
      },
      "source": [
        "#sintaxis del for en python\n",
        "\n",
        "dos vesiones\n",
        "1. range\n",
        "2. in iterator\n"
      ]
    },
    {
      "cell_type": "code",
      "metadata": {
        "id": "MdeA92udz5EW",
        "outputId": "b67b0209-358c-44b9-d0cc-451f9e4e1592",
        "colab": {
          "base_uri": "https://localhost:8080/",
          "height": 238
        }
      },
      "source": [
        "#print(range(0,10,1))\n",
        "\n",
        "r= range(0,10,2)\n",
        "for x in r:\n",
        "  print(x)\n",
        "\n",
        "\n",
        "colores =['rojo','rosa','azul','fucsia']\n",
        "\n",
        "for indice in range(0,4,1): #for(indice =0;indice <4; indice ++)\n",
        "     #print(colores[indice])\n",
        "     colores[indice]= colores[indice].upper()\n",
        "\n",
        "#for sobre un iterator\n",
        "for col in colores:\n",
        "  print(col)"
      ],
      "execution_count": 19,
      "outputs": [
        {
          "output_type": "stream",
          "text": [
            "0\n",
            "2\n",
            "4\n",
            "6\n",
            "8\n",
            "rojo\n",
            "rosa\n",
            "azul\n",
            "fucsia\n",
            "rojo\n",
            "rosa\n",
            "azul\n",
            "fucsia\n"
          ],
          "name": "stdout"
        }
      ]
    },
    {
      "cell_type": "markdown",
      "metadata": {
        "id": "VHleBuXs8CNa"
      },
      "source": [
        "#generadores\n",
        "\n",
        "[valor for x in range()]\n",
        "[\"hola\" for x in range(10)]\n",
        "'\n",
        "3x3\n",
        "\n",
        "[[0,0,0],\n",
        " [0,0,0],\n",
        " [0,0,0]]\n",
        "\n"
      ]
    },
    {
      "cell_type": "code",
      "metadata": {
        "id": "YfYECneO24Ub",
        "outputId": "b29cf92b-c3aa-452a-cc44-e19c8b87fd02",
        "colab": {
          "base_uri": "https://localhost:8080/",
          "height": 34
        }
      },
      "source": [
        "#lista =[0 for x in range(10)]\n",
        "#print(lista)\n",
        "\n",
        "lista=[[0,0,0] for x in range(3)]\n",
        "print (lista)"
      ],
      "execution_count": 23,
      "outputs": [
        {
          "output_type": "stream",
          "text": [
            "[[0, 0, 0], [0, 0, 0], [0, 0, 0]]\n"
          ],
          "name": "stdout"
        }
      ]
    },
    {
      "cell_type": "code",
      "metadata": {
        "id": "mh4Y8LVy8gJm",
        "outputId": "0c8f46e1-8432-4d61-f18d-8b3b86736134",
        "colab": {
          "base_uri": "https://localhost:8080/",
          "height": 34
        }
      },
      "source": [
        "ren = 3\n",
        "col = 3\n",
        "\n",
        "lista = [ [0 for x in range(col)] for x in range(ren)] \n",
        "print(lista)"
      ],
      "execution_count": 27,
      "outputs": [
        {
          "output_type": "stream",
          "text": [
            "[[0, 0, 0], [0, 0, 0], [0, 0, 0]]\n"
          ],
          "name": "stdout"
        }
      ]
    },
    {
      "cell_type": "markdown",
      "metadata": {
        "id": "xvtqySxF_HYP"
      },
      "source": [
        "#POO en Python\n",
        "\n",
        "- clase\n",
        "- creacion de objetos\n",
        "- constructor\n",
        "- encapsulamiento\n",
        "- metodos\n",
        "- atributos\n",
        "- herencia\n",
        "- "
      ]
    },
    {
      "cell_type": "code",
      "metadata": {
        "id": "Jft7Px7F-U6z",
        "outputId": "c5678796-9306-4f60-b46a-cdc41ef82c23",
        "colab": {
          "base_uri": "https://localhost:8080/",
          "height": 34
        }
      },
      "source": [
        "class Computadora: #__ = private\n",
        "   def __init__( self, m, p):\n",
        "       self.__marca=m\n",
        "       self.__procesador=p\n",
        "\n",
        "   def to_string( self ):\n",
        "       return \"Marca:\"+self.__marca+\" Procesador:\"+self.__procesador\n",
        "\n",
        "mi_pc = Computadora(\"Toshiba\", \"Intel i7\")\n",
        "mi_pc.__marca=\"HP\"\n",
        "\n",
        "print(mi_pc.to_string())"
      ],
      "execution_count": 5,
      "outputs": [
        {
          "output_type": "stream",
          "text": [
            "Marca:Toshiba Procesador:Intel i7\n"
          ],
          "name": "stdout"
        }
      ]
    },
    {
      "cell_type": "code",
      "metadata": {
        "id": "qd6j7ZAfB4tH"
      },
      "source": [
        ""
      ],
      "execution_count": null,
      "outputs": []
    }
  ]
}