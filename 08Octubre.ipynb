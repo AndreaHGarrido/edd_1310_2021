{
  "nbformat": 4,
  "nbformat_minor": 0,
  "metadata": {
    "colab": {
      "name": "08Octubre.ipynb",
      "provenance": [],
      "authorship_tag": "ABX9TyPcoXFKwRuVQI1ucamFiOcU",
      "include_colab_link": true
    },
    "kernelspec": {
      "name": "python3",
      "display_name": "Python 3"
    }
  },
  "cells": [
    {
      "cell_type": "markdown",
      "metadata": {
        "id": "view-in-github",
        "colab_type": "text"
      },
      "source": [
        "<a href=\"https://colab.research.google.com/github/AndreaHGarrido/edd_1310_2021/blob/master/08Octubre.ipynb\" target=\"_parent\"><img src=\"https://colab.research.google.com/assets/colab-badge.svg\" alt=\"Open In Colab\"/></a>"
      ]
    },
    {
      "cell_type": "code",
      "metadata": {
        "id": "001XVTWI_Utu",
        "outputId": "900bbd30-f074-443f-d51a-1f41a073ecd6",
        "colab": {
          "base_uri": "https://localhost:8080/",
          "height": 156
        }
      },
      "source": [
        "#Lista multidimension\n",
        "monitores =[[\"Samsung\",\"17.3 \\\"\",1024],[\"BenQ\",\"40\\\"\",2048]]\n",
        "procesadores = [[\"Intel\",\"i7\",3.4],[\"AMD\",\"razzer\",3.3],[\"Intel\",\"i3\",3.1]]\n",
        "memorias = [[\"Kingston\", \"8GB\",\"DDR4\"],[\"Kingston\", \"16GB\",\"DDR3\"],[\"ADATA\", \"32GB\",\"DDR4\"]]\n",
        "\n",
        "componentes = [monitores,procesadores,memorias]\n",
        "print(componentes[1])\n",
        "print(componentes[2][1][1])\n",
        "print(componentes[0][1][2]*2)#multiplicar\n",
        "print(componentes[1][1][1][2:4])\n",
        "print(componentes[1][1][1][1:4:1])\n",
        "print(componentes[2][2][0].lower()) #minusculas\n",
        "\n",
        "componentes[2]. append([\"Patito\", \"32GB\", \"dataa\"])\n",
        "print(componentes[2])\n",
        "\n"
      ],
      "execution_count": 31,
      "outputs": [
        {
          "output_type": "stream",
          "text": [
            "[['Intel', 'i7', 3.4], ['AMD', 'razzer', 3.3], ['Intel', 'i3', 3.1]]\n",
            "16GB\n",
            "4096\n",
            "zz\n",
            "azz\n",
            "adata\n",
            "[['Kingston', '8GB', 'DDR4'], ['Kingston', '16GB', 'DDR3'], ['ADATA', '32GB', 'DDR4'], ['Patito', '32GB', 'dataa']]\n"
          ],
          "name": "stdout"
        }
      ]
    },
    {
      "cell_type": "code",
      "metadata": {
        "id": "Y_WvBTX4_i9j",
        "outputId": "3f7656a8-ed6c-4242-9c6a-e099a4fe586d",
        "colab": {
          "base_uri": "https://localhost:8080/",
          "height": 204
        }
      },
      "source": [
        "#copiar listas\n",
        "#extender listas\n",
        "\n",
        "frutas = [\"manzana\",\"pera\"]\n",
        "otras_frutas =[\"aguacate\", \"sandia\"]\n",
        "\n",
        "#+ sobre listas\n",
        "frutas=frutas+otras_frutas\n",
        "print(frutas)\n",
        "\n",
        "#funcion extend()\n",
        "frutas.extend(otras_frutas)\n",
        "print(frutas)\n",
        "\n",
        "#funcion extend()\n",
        "frutas.append(otras_frutas)\n",
        "print(frutas)\n",
        "\n",
        "#copiar\n",
        "\n",
        "colores = [\"azul\",\"rojo\",\"verde\",\"violeta\"]\n",
        "otros_colores = colores\n",
        "print(colores)\n",
        "print(otros_colores)\n",
        "otros_colores.append(\"rosa\")\n",
        "print(colores)\n",
        "print(otros_colores)\n",
        "\n",
        "una_mas = colores.copy() #nueva declaracion independiente a la copia\n",
        "print(una_mas)\n",
        "una_mas.append(\"gris\")\n",
        "print(una_mas)\n",
        "print(colores)\n",
        "\n",
        "#unpacking de listas\n",
        "\n",
        "alumno =[\"Jesus\",\"Perez\",\"Herrera\",22,\"ICO\",10.0]\n",
        " #nombre = alumno[0]\n",
        " #paterno = alumno[1]\n",
        " #etc(7 lineas)\n",
        "\n",
        "nombre,paterno,materno,edad,carrera,promedio =alumno\n",
        "print(f\"Alumno:{nombre} carrera: { carrera} promedio={promedio}\")\n"
      ],
      "execution_count": 44,
      "outputs": [
        {
          "output_type": "stream",
          "text": [
            "['manzana', 'pera', 'aguacate', 'sandia']\n",
            "['manzana', 'pera', 'aguacate', 'sandia', 'aguacate', 'sandia']\n",
            "['manzana', 'pera', 'aguacate', 'sandia', 'aguacate', 'sandia', ['aguacate', 'sandia']]\n",
            "['azul', 'rojo', 'verde', 'violeta']\n",
            "['azul', 'rojo', 'verde', 'violeta']\n",
            "['azul', 'rojo', 'verde', 'violeta', 'rosa']\n",
            "['azul', 'rojo', 'verde', 'violeta', 'rosa']\n",
            "['azul', 'rojo', 'verde', 'violeta', 'rosa']\n",
            "['azul', 'rojo', 'verde', 'violeta', 'rosa', 'gris']\n",
            "['azul', 'rojo', 'verde', 'violeta', 'rosa']\n",
            "Alumno:Jesus carrera: ICO promedio=10.0\n"
          ],
          "name": "stdout"
        }
      ]
    },
    {
      "cell_type": "markdown",
      "metadata": {
        "id": "mQ6rx0u4R7kq"
      },
      "source": [
        "#Tuplas\n",
        "- Se declaran con ( )\n",
        "- Selector con [ ]\n",
        "- No son mutables\n",
        "\n",
        "\n"
      ]
    },
    {
      "cell_type": "code",
      "metadata": {
        "id": "xAMsXzciH5TK",
        "outputId": "b990bf43-4444-4c1b-9bb0-e0fc2afd8f6c",
        "colab": {
          "base_uri": "https://localhost:8080/",
          "height": 68
        }
      },
      "source": [
        "precios=( 99.9 , 49.9 , 12.45 , 23.3 , 33.44 , 55.66 )\n",
        "print(precios[1])\n",
        "#precios[1]=50.0\n",
        "print(precios)\n",
        "print(precios[2:4])"
      ],
      "execution_count": 45,
      "outputs": [
        {
          "output_type": "stream",
          "text": [
            "49.9\n",
            "(99.9, 49.9, 12.45, 23.3, 33.44, 55.66)\n",
            "(12.45, 23.3)\n"
          ],
          "name": "stdout"
        }
      ]
    },
    {
      "cell_type": "markdown",
      "metadata": {
        "id": "2IMslO-PT8NF"
      },
      "source": [
        "#Diccionarios\n",
        "- Se declaran con {}\n",
        "- Son mutables\n",
        "-Conjunto de pares llave: valor\n",
        "-Equivalente a los objetos JSON de JavaScript\n",
        "-Selector [str]"
      ]
    },
    {
      "cell_type": "code",
      "metadata": {
        "id": "Br2KfIHRTiIi",
        "outputId": "42739200-5ce4-47c2-f7f8-92f0191d3485",
        "colab": {
          "base_uri": "https://localhost:8080/",
          "height": 139
        }
      },
      "source": [
        "cliente = {  }\n",
        "print(cliente)\n",
        "alumno = { \"num_cta\" : 30303030}\n",
        "print (alumno)\n",
        "\n",
        "alumno = { \"num_cta\" : 30303030,\n",
        "          \"carrera\": \"ICO\",\n",
        "          \"promedio\" : 9.8,\n",
        "          \"materias\": [\"EDD\", \"CyP\", \"Calidad\", \"Emprendimiento\"],\n",
        "          \"direccion\":{\n",
        "              \"calle\": \"rancho seco\",\n",
        "              \"numero\": 23,\n",
        "              \"delegacion\" : \"Neza\",\n",
        "              \"estado\" : {\n",
        "                  \"id\" : 15, \n",
        "                  \"nombre\": \"Estado de Mexico\",\n",
        "                  \"nombre_corto\" : \"EdoMex\"\n",
        "              },\n",
        "              \"CP\": 57170\n",
        "\n",
        "          }\n",
        "          }\n",
        "\n",
        "print(alumno) \n",
        "print(alumno['materias'])\n",
        "print(alumno['promedio'])\n",
        "print(alumno['direccion']['estado']['nombre_corto'])"
      ],
      "execution_count": 49,
      "outputs": [
        {
          "output_type": "stream",
          "text": [
            "{}\n",
            "{'num_cta': 30303030}\n",
            "{'num_cta': 30303030, 'carrera': 'ICO', 'promedio': 9.8, 'materias': ['EDD', 'CyP', 'Calidad', 'Emprendimiento'], 'direccion': {'calle': 'rancho seco', 'numero': 23, 'delegacion': 'Neza', 'estado': {'id': 15, 'nombre': 'Estado de Mexico', 'nombre_corto': 'EdoMex'}, 'CP': 57170}}\n",
            "['EDD', 'CyP', 'Calidad', 'Emprendimiento']\n",
            "9.8\n",
            "EdoMex\n"
          ],
          "name": "stdout"
        }
      ]
    },
    {
      "cell_type": "code",
      "metadata": {
        "id": "rWRaXf2WWoru"
      },
      "source": [
        ""
      ],
      "execution_count": null,
      "outputs": []
    }
  ]
}