{
  "nbformat": 4,
  "nbformat_minor": 0,
  "metadata": {
    "colab": {
      "name": "15Octubre.ipynb",
      "provenance": [],
      "authorship_tag": "ABX9TyO1d9DKpgF3bYNBCQeiHoqL",
      "include_colab_link": true
    },
    "kernelspec": {
      "name": "python3",
      "display_name": "Python 3"
    }
  },
  "cells": [
    {
      "cell_type": "markdown",
      "metadata": {
        "id": "view-in-github",
        "colab_type": "text"
      },
      "source": [
        "<a href=\"https://colab.research.google.com/github/AndreaHGarrido/edd_1310_2021/blob/master/15Octubre.ipynb\" target=\"_parent\"><img src=\"https://colab.research.google.com/assets/colab-badge.svg\" alt=\"Open In Colab\"/></a>"
      ]
    },
    {
      "cell_type": "markdown",
      "metadata": {
        "id": "-uaY22x0ByLU"
      },
      "source": [
        "#**Modulos**\n",
        "Son recursos reutilizables que contienen varias funciones que pueden ser importadas a tu código\n",
        "\n"
      ]
    },
    {
      "cell_type": "code",
      "metadata": {
        "id": "JAGDkDWKBW-G",
        "outputId": "05dd9110-ce68-4f45-f269-8732d5a7829f",
        "colab": {
          "base_uri": "https://localhost:8080/",
          "height": 51
        }
      },
      "source": [
        "import mi_modulo\n",
        "\n",
        "x = mi_modulo.sumar( 4 , 7 )\n",
        "\n",
        "print( x )\n",
        "\n",
        "print( mi_modulo.multiplicar( 3 , 5 ))\n",
        "#reiniciar entorno de ejecución "
      ],
      "execution_count": 1,
      "outputs": [
        {
          "output_type": "stream",
          "text": [
            "11\n",
            "15\n"
          ],
          "name": "stdout"
        }
      ]
    },
    {
      "cell_type": "code",
      "metadata": {
        "id": "xXHL22sSII9J",
        "outputId": "ef918aa5-ff0d-4f98-c421-5acbb1e7107a",
        "colab": {
          "base_uri": "https://localhost:8080/",
          "height": 51
        }
      },
      "source": [
        "from mi_modulo import sumar, dividir\n",
        "\n",
        "print(sumar(4,7))\n",
        "print(dividir(14,7))\n",
        "\n"
      ],
      "execution_count": 11,
      "outputs": [
        {
          "output_type": "stream",
          "text": [
            "11\n",
            "2.0\n"
          ],
          "name": "stdout"
        }
      ]
    },
    {
      "cell_type": "code",
      "metadata": {
        "id": "z6kcy-BQK4Cu",
        "outputId": "a0389e40-c977-4cfd-aab4-fa74540b9c76",
        "colab": {
          "base_uri": "https://localhost:8080/",
          "height": 34
        }
      },
      "source": [
        "import mi_modulo as patito\n",
        "\n",
        "print(patito.sumar( 4 , 6 ))"
      ],
      "execution_count": 9,
      "outputs": [
        {
          "output_type": "stream",
          "text": [
            "10\n"
          ],
          "name": "stdout"
        }
      ]
    },
    {
      "cell_type": "code",
      "metadata": {
        "id": "NzH1BLuPLXTw",
        "outputId": "98ee89b0-57db-499c-ed27-fd9825e33199",
        "colab": {
          "base_uri": "https://localhost:8080/",
          "height": 275
        }
      },
      "source": [
        "pip install joke-generator # https://pypi.org/project/joke-generator/"
      ],
      "execution_count": 4,
      "outputs": [
        {
          "output_type": "stream",
          "text": [
            "Collecting joke-generator\n",
            "  Downloading https://files.pythonhosted.org/packages/95/e5/de76c4aff315ad38ab69cd25ea942250a51008e910905c1f8ef80265b15b/joke_generator-1.0.1.tar.gz\n",
            "Requirement already satisfied: requests>=2.22.0 in /usr/local/lib/python3.6/dist-packages (from joke-generator) (2.23.0)\n",
            "Requirement already satisfied: urllib3!=1.25.0,!=1.25.1,<1.26,>=1.21.1 in /usr/local/lib/python3.6/dist-packages (from requests>=2.22.0->joke-generator) (1.24.3)\n",
            "Requirement already satisfied: idna<3,>=2.5 in /usr/local/lib/python3.6/dist-packages (from requests>=2.22.0->joke-generator) (2.10)\n",
            "Requirement already satisfied: certifi>=2017.4.17 in /usr/local/lib/python3.6/dist-packages (from requests>=2.22.0->joke-generator) (2020.6.20)\n",
            "Requirement already satisfied: chardet<4,>=3.0.2 in /usr/local/lib/python3.6/dist-packages (from requests>=2.22.0->joke-generator) (3.0.4)\n",
            "Building wheels for collected packages: joke-generator\n",
            "  Building wheel for joke-generator (setup.py) ... \u001b[?25l\u001b[?25hdone\n",
            "  Created wheel for joke-generator: filename=joke_generator-1.0.1-cp36-none-any.whl size=2075 sha256=166de18dd8d6181baf3cfddb71bb86e4da85857820842107108ff1bed7ac2b0a\n",
            "  Stored in directory: /root/.cache/pip/wheels/b1/e1/1c/42a5a669d05834c31aab52f6f87b1c7d50718f7669d51bd347\n",
            "Successfully built joke-generator\n",
            "Installing collected packages: joke-generator\n",
            "Successfully installed joke-generator-1.0.1\n"
          ],
          "name": "stdout"
        }
      ]
    },
    {
      "cell_type": "code",
      "metadata": {
        "id": "ROfFF6F9OBLi",
        "outputId": "dfd91b4a-df07-45f5-9742-0a2aa6605e80",
        "colab": {
          "base_uri": "https://localhost:8080/",
          "height": 35
        }
      },
      "source": [
        "from joke_generator import generate\n",
        "\n",
        "generate()"
      ],
      "execution_count": 9,
      "outputs": [
        {
          "output_type": "execute_result",
          "data": {
            "application/vnd.google.colaboratory.intrinsic+json": {
              "type": "string"
            },
            "text/plain": [
              "'What do I look like? A JOKE MACHINE!?'"
            ]
          },
          "metadata": {
            "tags": []
          },
          "execution_count": 9
        }
      ]
    },
    {
      "cell_type": "markdown",
      "metadata": {
        "id": "7cpvmcPYSCmq"
      },
      "source": [
        "NumPy : Recomendacion para estudio\n"
      ]
    },
    {
      "cell_type": "markdown",
      "metadata": {
        "id": "TRapNLrDSQ8E"
      },
      "source": [
        "#ARCHIVOS\n",
        "- Open (str , str)\n",
        "    1.-Nombre o ruta del archivo\n",
        "    1.- dos caracteres\n",
        "        - modo de apertura( r, w, a append si y solo su el archivo existe, x append y y solo si el archivo no existe) \n",
        "        - formato de archivo (t o b)\n",
        "      "
      ]
    },
    {
      "cell_type": "code",
      "metadata": {
        "id": "uldR4pNOPxkZ"
      },
      "source": [
        "archivo = open(\"saludo.txt\",\"wt\")\n",
        "archivo.write(\"Hola mundo\\n Ola k ace\")\n",
        "archivo.close()\n"
      ],
      "execution_count": 10,
      "outputs": []
    },
    {
      "cell_type": "code",
      "metadata": {
        "id": "FlNDInLRT58V",
        "outputId": "ce3c9756-abd3-4358-cda1-97861a0fb3ee",
        "colab": {
          "base_uri": "https://localhost:8080/",
          "height": 153
        }
      },
      "source": [
        "otro = open('./sample_data/anscombe.json', \"rt\")\n",
        "datos = otro.read()\n",
        "#print(datos)\n",
        "otro.close()\n",
        "\n",
        "arch = open('frutas.txt','rt')\n",
        "#1\n",
        "data = 'ppp'\n",
        "while(data != ''):\n",
        "  data = arch.readline()\n",
        "  print(data)\n",
        "\n",
        "\n",
        "#print(list_frutas)\n",
        "#2\n",
        "#print(arch.readline())\n",
        "#print(arch.readline())\n",
        "arch.close()\n",
        "arch = open('frutas.txt','rt')\n",
        "list_frutas = arch.readlines()\n",
        "print(list_frutas)\n",
        "arch.close()"
      ],
      "execution_count": 16,
      "outputs": [
        {
          "output_type": "stream",
          "text": [
            "manzana, pera , kiwi , aguacate\n",
            "\n",
            "limon , naranja\n",
            "\n",
            "sandia , papaya \n",
            "\n",
            "\n",
            "['manzana, pera , kiwi , aguacate\\n', 'limon , naranja\\n', 'sandia , papaya \\n']\n"
          ],
          "name": "stdout"
        }
      ]
    },
    {
      "cell_type": "code",
      "metadata": {
        "id": "NVA9xD6JU8xe"
      },
      "source": [
        "help(otro) "
      ],
      "execution_count": null,
      "outputs": []
    }
  ]
}