{
  "nbformat": 4,
  "nbformat_minor": 0,
  "metadata": {
    "colab": {
      "name": "Tarea3.ipynb",
      "provenance": [],
      "authorship_tag": "ABX9TyNqOK8bJ752gnVvxDQK6420",
      "include_colab_link": true
    },
    "kernelspec": {
      "name": "python3",
      "display_name": "Python 3"
    }
  },
  "cells": [
    {
      "cell_type": "markdown",
      "metadata": {
        "id": "view-in-github",
        "colab_type": "text"
      },
      "source": [
        "<a href=\"https://colab.research.google.com/github/AndreaHGarrido/edd_1310_2021/blob/master/Tarea3.ipynb\" target=\"_parent\"><img src=\"https://colab.research.google.com/assets/colab-badge.svg\" alt=\"Open In Colab\"/></a>"
      ]
    },
    {
      "cell_type": "code",
      "metadata": {
        "id": "xZUn5aqosBuE",
        "outputId": "80294eb0-e858-45b1-90c2-496c8fee3c9b",
        "colab": {
          "base_uri": "https://localhost:8080/",
          "height": 51
        }
      },
      "source": [
        "class Persona : \n",
        "    def __init__(self,nombre,edad,estatura):\n",
        "        self.__Nombre = nombre\n",
        "        self.__Edad = edad\n",
        "        self.__Estatura = estatura\n",
        "    def Dormir (self):\n",
        "        print (\"Durmiendo \")\n",
        "    def Comer (self):\n",
        "        print (\"Comiendo\")\n",
        "    def to_string (self):\n",
        "        return \"Hola me llamo \" + self.__Nombre + \" Tengo : \" + self.__Edad + \" Años\" + \" Y mido : \" + self.__Estatura\n",
        "class Celular :\n",
        "    def __init__(self,marca,modelo,librememoria):\n",
        "        self.__Marca = marca\n",
        "        self.__Modelo =modelo\n",
        "        self.__EspacioMemoria = librememoria\n",
        "    def Llamar (self):\n",
        "        print (\"LLamando\")\n",
        "    def PonerAlarma(self):\n",
        "        print (\"Alarma puesta\")\n",
        "    def to_string (self):\n",
        "        return \"Marca : \" + self.__Marca + \" Modelo : \" + self.__Modelo + \" Espacio Libre en Memoria : \" + self.__EspacioMemoria\n",
        "\n",
        "personita = Persona (\"Andrea\",\"19\",\"1.75\")\n",
        "print (personita.to_string())\n",
        "celular = Celular(\"xiaomi\",\"mi 9\",\"30 gb\")\n",
        "print (celular.to_string())\n"
      ],
      "execution_count": 2,
      "outputs": [
        {
          "output_type": "stream",
          "text": [
            "Hola me llamo Andrea Tengo : 19 Años Y mido : 1.75\n",
            "Marca : xiaomi Modelo : mi 9 Espacio Libre en Memoria : 30 gb\n"
          ],
          "name": "stdout"
        }
      ]
    },
    {
      "cell_type": "code",
      "metadata": {
        "id": "tXyNuUDesGO0"
      },
      "source": [
        ""
      ],
      "execution_count": null,
      "outputs": []
    }
  ]
}